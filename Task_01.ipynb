{
 "cells": [
  {
   "cell_type": "markdown",
   "metadata": {},
   "source": [
    "# Task I: Quantum Computing Part \n",
    "## 1. Implement a simple quantum operation with Cirq or Pennylane\n",
    "<ol> \n",
    "    <li> With 5 qubits \n",
    "    <li> Apply Hadamard operation on every qubit \n",
    "    <li> Apply CNOT operation on (0, 1), (1,2), (2,3), (3,4) \n",
    "    <li> SWAP (0, 4) \n",
    "    <li> Rotate X with pi/2 on any qubit \n",
    "    <li> Plot the circuit \n",
    "</ol>\n",
    "<hr>\n",
    "\n",
    "## 2. Implement a second circuit with a framework of your choice:\n",
    "<ol>\n",
    "    <li> Apply a Hadmard gate to the first qubit\n",
    "    <li> Rotate the second qubit by pi/3 around X\n",
    "    <li> Apply Hadamard gate to the third and fourth qubit\n",
    "    <li> Perform a swap test between the states of the first and second qubit |q1 q2> and the third and fourth qubit |q3 q4>\n",
    "</ol>\n",
    "<hr>"
   ]
  }
 ],
 "metadata": {
  "language_info": {
   "name": "python"
  }
 },
 "nbformat": 4,
 "nbformat_minor": 2
}
