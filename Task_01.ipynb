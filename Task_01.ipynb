{
 "cells": [
  {
   "cell_type": "markdown",
   "metadata": {},
   "source": [
    "# Task I: Quantum Computing Part "
   ]
  },
  {
   "cell_type": "markdown",
   "metadata": {},
   "source": [
    "## 1. Implement a simple quantum operation with Cirq or Pennylane\n",
    "<ol> \n",
    "    <li> With 5 qubits \n",
    "    <li> Apply Hadamard operation on every qubit \n",
    "    <li> Apply CNOT operation on (0, 1), (1,2), (2,3), (3,4) \n",
    "    <li> SWAP (0, 4) \n",
    "    <li> Rotate X with pi/2 on any qubit \n",
    "    <li> Plot the circuit \n",
    "</ol>\n",
    "<hr>\n",
    "\n",
    "## 2. Implement a second circuit with a framework of your choice:\n",
    "<ol>\n",
    "    <li> Apply a Hadmard gate to the first qubit\n",
    "    <li> Rotate the second qubit by pi/3 around X\n",
    "    <li> Apply Hadamard gate to the third and fourth qubit\n",
    "    <li> Perform a swap test between the states of the first and second qubit |q1 q2> and the third and fourth qubit |q3 q4>\n",
    "</ol>\n",
    "<hr>"
   ]
  },
  {
   "cell_type": "markdown",
   "metadata": {},
   "source": [
    "# Task 1"
   ]
  },
  {
   "cell_type": "code",
   "execution_count": 2,
   "metadata": {},
   "outputs": [
    {
     "name": "stdout",
     "output_type": "stream",
     "text": [
      "0: ───H───@──────────────────────×───\n",
      "          │                      │\n",
      "1: ───H───X───@──────────────────┼───\n",
      "              │                  │\n",
      "2: ───H───────X───@───Rx(0.5π)───┼───\n",
      "                  │              │\n",
      "3: ───H───────────X───@──────────┼───\n",
      "                      │          │\n",
      "4: ───H───────────────X──────────×───\n",
      "measurements: (no measurements)\n",
      "\n",
      "qubits: (cirq.LineQubit(4), cirq.LineQubit(1), cirq.LineQubit(2), cirq.LineQubit(3), cirq.LineQubit(0))\n",
      "output vector: [0.12499999-0.12499999j 0.12499999-0.12499999j 0.12499999-0.12499999j\n",
      " 0.12499999-0.12499999j 0.12499999-0.12499999j 0.12499999-0.12499999j\n",
      " 0.12499999-0.12499999j 0.12499999-0.12499999j 0.12499999-0.12499999j\n",
      " 0.12499999-0.12499999j 0.12499999-0.12499999j 0.12499999-0.12499999j\n",
      " 0.12499999-0.12499999j 0.12499999-0.12499999j 0.12499999-0.12499999j\n",
      " 0.12499999-0.12499999j 0.12499999-0.12499999j 0.12499999-0.12499999j\n",
      " 0.12499999-0.12499999j 0.12499999-0.12499999j 0.12499999-0.12499999j\n",
      " 0.12499999-0.12499999j 0.12499999-0.12499999j 0.12499999-0.12499999j\n",
      " 0.12499999-0.12499999j 0.12499999-0.12499999j 0.12499999-0.12499999j\n",
      " 0.12499999-0.12499999j 0.12499999-0.12499999j 0.12499999-0.12499999j\n",
      " 0.12499999-0.12499999j 0.12499999-0.12499999j]\n",
      "\n",
      "phase:\n",
      "output vector: |⟩\n"
     ]
    },
    {
     "data": {
      "image/png": "[encoded data removed]",
      "text/plain": [
       "<Figure size 800x400 with 1 Axes>"
      ]
     },
     "metadata": {},
     "output_type": "display_data"
    }
   ],
   "source": [
    "'''\n",
    "    a-> With 5 qubits \n",
    "    b-> Apply Hadamard operation on every qubit \n",
    "    c-> Apply CNOT operation on (0, 1), (1,2), (2,3), (3,4) \n",
    "    d-> SWAP (0, 4) \n",
    "    e-> Rotate X with pi/2 on any qubit \n",
    "    f-> Plot the circuit \n",
    "'''\n",
    "\n",
    "import cirq\n",
    "import numpy as np\n",
    "import matplotlib.pyplot as plt\n",
    "\n",
    "''' Task a -> Create 5 qubits and add it to a circuit '''\n",
    "''' Now they will be: \n",
    "    q0: 1|0⟩\n",
    "    q1: 1|0⟩\n",
    "    q2: 1|0⟩\n",
    "    q3: 1|0⟩\n",
    "    q4: 1|0⟩\n",
    "'''\n",
    "qubits = [cirq.LineQubit(i) for i in range(5)]\n",
    "circuit_task01 = cirq.Circuit()\n",
    "# print (circuit_task01)\n",
    "\n",
    "''' Task b -> Apply Hadaman operations on every qubit '''\n",
    "''' Now they will be: \n",
    "    q0: 1/√2 ( |0⟩ + |1⟩ )\n",
    "    q1: 1/√2 ( |0⟩ + |1⟩ )\n",
    "    q2: 1/√2 ( |0⟩ + |1⟩ )\n",
    "    q3: 1/√2 ( |0⟩ + |1⟩ )\n",
    "    q4: 1/√2 ( |0⟩ + |1⟩ )\n",
    "'''\n",
    "circuit_task01.append(cirq.H(q) for q in qubits)\n",
    "# print (circuit_task01)\n",
    "\n",
    "''' Task c -> Apply CNOT operation on (0, 1), (1,2), (2,3), (3,4) '''\n",
    "circuit_task01.append(cirq.CNOT(qubits[i], qubits[i + 1]) for i in range(4))\n",
    "# print (circuit_task01)\n",
    "\n",
    "# Apply SWAP between qubit 0 and 4\n",
    "circuit_task01.append(cirq.SWAP(qubits[0], qubits[4]))\n",
    "# print (circuit_task01)\n",
    "\n",
    "# Apply Rx(pi/2) to qubit 2 (arbitrarily chosen)\n",
    "circuit_task01.append(cirq.rx(np.pi / 2)(qubits[2]))\n",
    "print (circuit_task01)\n",
    "\n",
    "s = cirq.Simulator()\n",
    "results = s.simulate(circuit_task01)\n",
    "print (results)\n",
    "circuit_task01.append(cirq.measure(cirq.LineQubit(4), cirq.LineQubit(1), cirq.LineQubit(2), cirq.LineQubit(3), cirq.LineQubit(0), key='result'))\n",
    "samples = s.run(circuit_task01, repetitions=1000)\n",
    "\n",
    "# Plot the circuit\n",
    "cirq.CircuitDiagramInfo(circuit_task01)\n",
    "fig, ax = plt.subplots(figsize=(8, 4))\n",
    "cirq.plot_state_histogram(samples, plt.subplot())\n",
    "plt.show()\n"
   ]
  },
  {
   "cell_type": "code",
   "execution_count": null,
   "metadata": {},
   "outputs": [],
   "source": []
  }
 ],
 "metadata": {
  "kernelspec": {
   "display_name": "GSOC25",
   "language": "python",
   "name": "python3"
  },
  "language_info": {
   "codemirror_mode": {
    "name": "ipython",
    "version": 3
   },
   "file_extension": ".py",
   "mimetype": "text/x-python",
   "name": "python",
   "nbconvert_exporter": "python",
   "pygments_lexer": "ipython3",
   "version": "3.12.9"
  }
 },
 "nbformat": 4,
 "nbformat_minor": 2
}
