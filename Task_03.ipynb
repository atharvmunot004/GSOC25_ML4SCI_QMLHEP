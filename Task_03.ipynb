{
 "cells": [
  {
   "cell_type": "markdown",
   "metadata": {},
   "source": [
    "# Task III: Open Task  \n",
    "Please comment on quantum computing or quantum machine learning. You can also \n",
    "comment on one quantum algorithm or one quantum software you are familiar with. \n",
    "You can also suggest methods you think are good and you would like to work on. \n",
    "Please use your own understanding. Comments copied from the internet will not be \n",
    "considered."
   ]
  },
  {
   "cell_type": "markdown",
   "metadata": {},
   "source": [
    "## Quantum Computing"
   ]
  },
  {
   "cell_type": "markdown",
   "metadata": {},
   "source": [
    "Rather than being confined to the conventional 1s and 0s, quantum computers explore possibilities beyond this limitation.\n",
    "\n",
    "For a long time, I was curious about how we could evolve beyond our reliance on traditional binary systems and move toward something more advanced. Quantum computing provided that answer in a neat way: superpositions of 1s and 0s.\n",
    "\n",
    "I used to wonder if we would ever develop ternary circuits to pave the way for computations beyond binary logic. However, with the advent of quantum computation, I have realized that there is much more to harness from the world of binary—specifically, the power of superposition.\n",
    "\n",
    "Even while adhering to binary logic, we are pushing new frontiers by exploiting quantum phenomena. Thus, I believe the answer I have been searching for lies in this new domain of computation. I am more than grateful for the opportunity to study and learn its intricacies.\n",
    "\n",
    "Qubits ( a|0⟩ + b|1⟩ ) gives quantum computers the ability to solve problems exponentially faster than classical computers, especially for stuff like factorization (a prominent example being Shor’s algorithm) and optimization.\n",
    "\n",
    "But the whole field is still in its early stages—error rates are super high, qubits need to be kept at near absolute zero, and scaling up is a massive challenge. \n",
    "\n",
    "Once the problem of fault tolerance and stable qubits is solved, we will be looking at a whole new revoloution of computation.\n",
    "\n",
    "Given that we are in the early stages of this technology, I absolutely look forward to the work which we are ought to witness in the disciples of physics, chemisty and computer architecture."
   ]
  },
  {
   "cell_type": "markdown",
   "metadata": {},
   "source": [
    "## Quantum Software"
   ]
  },
  {
   "cell_type": "markdown",
   "metadata": {},
   "source": [
    "I am familar with Cirq - Google's Circuit Simualator, one of the most widely used quantum computing framework for simulating and executing quantum circuits.\n",
    "\n",
    "Cirq gives me a finer control over the quantum gate, enabling me to learn and explore custom quantum algorithms, something which abstract circuits like Qiskit doesn't offer. Making cirq a better choice for building custom quantum architecture (eg for Kolmogorov-Arnold Network)\n",
    "\n",
    "Integrating well with the real quantum hardware (Google's quantum proecessors) cirq allows for custom noise modelling. Being optimized for NISQ (Noisy Intermediat-Scale Quantum) devices, cirq aligns with practical near-term quantum computinmg rather than theoretical abstraction.\n",
    "\n",
    "\n",
    "#### **Key Differences**  \n",
    "| Feature           | Cirq|\n",
    "|-------------------|----------------------------|\n",
    "| **Developer**     | Google                     | \n",
    "| **Language**      | Python                     | \n",
    "| **Focus**         | Low-level circuit control  | \n",
    "| **Simulator**     | `cirq.Simulator()`         | \n",
    "| **Hardware Integration** | Google’s Sycamore   | \n",
    "\n",
    "Cirq is better suited for fine-tuned quantum experiments."
   ]
  },
  {
   "cell_type": "markdown",
   "metadata": {},
   "source": [
    "## Methods I would like to work on"
   ]
  },
  {
   "cell_type": "markdown",
   "metadata": {},
   "source": [
    "As it is evident, I absolutely love this field of Quantum Computing. I strongly have belived that KANs will have a large positive impact in the domain of machine learning. And getting an opportunity to work on a project that is the combination of the two, that too under such strong mentorhip is nothing short of a dream come true. \n",
    "\n",
    "In this journey, I am ready to learn and explore new technologies and methods in order to have positive contributions. I wish to learn, explore and create new systems that hopefully help us live a better life and understand out world better.\n",
    "\n",
    "I would love to work on Quantum Machine Learning and KAN model, working to build a quantum architecture for KAN model training. This is a challange I will gladly take on and give it my absolute best shot. \n",
    "\n",
    "I believe this architecure will pave way for amazing and ground breaking future innovations in multiple differnet disciples. "
   ]
  }
 ],
 "metadata": {
  "language_info": {
   "name": "python"
  }
 },
 "nbformat": 4,
 "nbformat_minor": 2
}
