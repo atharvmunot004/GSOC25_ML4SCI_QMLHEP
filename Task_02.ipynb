{
 "cells": [
  {
   "cell_type": "markdown",
   "metadata": {},
   "source": [
    "# 2. Implement a second circuit with a framework of your choice:\n",
    "<ol>\n",
    "    <li> Apply a Hadmard gate to the first qubit\n",
    "    <li> Rotate the second qubit by pi/3 around X\n",
    "    <li> Apply Hadamard gate to the third and fourth qubit\n",
    "    <li> Perform a swap test between the states of the first and second qubit |q1 q2> and the third and fourth qubit |q3 q4>\n",
    "</ol>\n",
    "<hr>\n"
   ]
  },
  {
   "cell_type": "markdown",
   "metadata": {},
   "source": []
  }
 ],
 "metadata": {
  "language_info": {
   "name": "python"
  }
 },
 "nbformat": 4,
 "nbformat_minor": 2
}
